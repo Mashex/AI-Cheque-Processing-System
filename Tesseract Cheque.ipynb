{
 "cells": [
  {
   "cell_type": "code",
   "execution_count": 3,
   "metadata": {},
   "outputs": [],
   "source": [
    "from skimage.segmentation import clear_border\n",
    "from imutils import contours\n",
    "import numpy as np\n",
    "import argparse\n",
    "import imutils\n",
    "import cv2"
   ]
  },
  {
   "cell_type": "code",
   "execution_count": 4,
   "metadata": {},
   "outputs": [
    {
     "name": "stderr",
     "output_type": "stream",
     "text": [
      "usage: ipykernel_launcher.py [-h] -i IMAGE -r REFERENCE\n",
      "ipykernel_launcher.py: error: the following arguments are required: -i/--image, -r/--reference\n"
     ]
    },
    {
     "ename": "SystemExit",
     "evalue": "2",
     "output_type": "error",
     "traceback": [
      "An exception has occurred, use %tb to see the full traceback.\n",
      "\u001b[1;31mSystemExit\u001b[0m\u001b[1;31m:\u001b[0m 2\n"
     ]
    },
    {
     "name": "stderr",
     "output_type": "stream",
     "text": [
      "C:\\Users\\masan\\AppData\\Local\\Continuum\\anaconda3\\lib\\site-packages\\IPython\\core\\interactiveshell.py:3334: UserWarning: To exit: use 'exit', 'quit', or Ctrl-D.\n",
      "  warn(\"To exit: use 'exit', 'quit', or Ctrl-D.\", stacklevel=1)\n"
     ]
    }
   ],
   "source": [
    "def extract_digits_and_symbols(image, charCnts, minW=5, minH=15):\n",
    "\t# grab the internal Python iterator for the list of character\n",
    "\t# contours, then  initialize the character ROI and location\n",
    "\t# lists, respectively\n",
    "\tcharIter = charCnts.__iter__()\n",
    "\trois = []\n",
    "\tlocs = []\n",
    "    \n",
    "    # keep looping over the character contours until we reach the end\n",
    "\t# of the list\n",
    "\twhile True:\n",
    "\t\ttry:\n",
    "\t\t\t# grab the next character contour from the list, compute\n",
    "\t\t\t# its bounding box, and initialize the ROI\n",
    "\t\t\tc = next(charIter)\n",
    "\t\t\t(cX, cY, cW, cH) = cv2.boundingRect(c)\n",
    "\t\t\troi = None\n",
    "            \n",
    "            # check to see if the width and height are sufficiently\n",
    "\t\t\t# large, indicating that we have found a digit\n",
    "\t\t\tif cW >= minW and cH >= minH:\n",
    "\t\t\t\t# extract the ROI\n",
    "\t\t\t\troi = image[cY:cY + cH, cX:cX + cW]\n",
    "\t\t\t\trois.append(roi)\n",
    "\t\t\t\tlocs.append((cX, cY, cX + cW, cY + cH))\n",
    "                \n",
    "                # otherwise, we are examining one of the special symbols\n",
    "\t\t\telse:\n",
    "\t\t\t\t# MICR symbols include three separate parts, so we\n",
    "\t\t\t\t# need to grab the next two parts from our iterator,\n",
    "\t\t\t\t# followed by initializing the bounding box\n",
    "\t\t\t\t# coordinates for the symbol\n",
    "\t\t\t\tparts = [c, next(charIter), next(charIter)]\n",
    "\t\t\t\t(sXA, sYA, sXB, sYB) = (np.inf, np.inf, -np.inf,\n",
    "\t\t\t\t\t-np.inf)\n",
    "\t\t\t\t# loop over the parts\n",
    "\t\t\t\tfor p in parts:\n",
    "\t\t\t\t\t# compute the bounding box for the part, then\n",
    "\t\t\t\t\t# update our bookkeeping variables\n",
    "\t\t\t\t\t(pX, pY, pW, pH) = cv2.boundingRect(p)\n",
    "\t\t\t\t\tsXA = min(sXA, pX)\n",
    "\t\t\t\t\tsYA = min(sYA, pY)\n",
    "\t\t\t\t\tsXB = max(sXB, pX + pW)\n",
    "\t\t\t\t\tsYB = max(sYB, pY + pH)\n",
    "\t\t\t\t# extract the ROI\n",
    "\t\t\t\troi = image[sYA:sYB, sXA:sXB]\n",
    "\t\t\t\trois.append(roi)\n",
    "\t\t\t\tlocs.append((sXA, sYA, sXB, sYB))\n",
    "                \n",
    "                \t\t# we have reached the end of the iterator; gracefully break\n",
    "\t\t# from the loop\n",
    "\t\texcept StopIteration:\n",
    "\t\t\tbreak\n",
    "\t# return a tuple of the ROIs and locations\n",
    "\treturn (rois, locs)\n",
    "\n",
    "# construct the argument parse and parse the arguments\n",
    "ap = argparse.ArgumentParser()\n",
    "ap.add_argument(\"-i\", \"--image\", required=True,\n",
    "\thelp=\"path to input image\")\n",
    "ap.add_argument(\"-r\", \"--reference\", required=True,\n",
    "\thelp=\"path to reference MICR E-13B font\")\n",
    "args = vars(ap.parse_args())\n",
    "\n"
   ]
  },
  {
   "cell_type": "code",
   "execution_count": null,
   "metadata": {},
   "outputs": [],
   "source": [
    "charNames = [\"1\", \"2\", \"3\", \"4\", \"5\", \"6\", \"7\", \"8\", \"9\", \"0\",\n",
    "\t\"T\", \"U\", \"A\", \"D\"]\n",
    "\n",
    "\n",
    "ref = cv2.imread(args[\"reference\"])\n",
    "ref = cv2.cvtColor(ref, cv2.COLOR_BGR2GRAY)\n",
    "ref = imutils.resize(ref, width=400)\n",
    "ref = cv2.threshold(ref, 0, 255, cv2.THRESH_BINARY_INV |\n",
    "\tcv2.THRESH_OTSU)[1]\n",
    "\n",
    "# find contours in the MICR image (i.e,. the outlines of the\n",
    "# characters) and sort them from left to right\n",
    "refCnts = cv2.findContours(ref.copy(), cv2.RETR_EXTERNAL,\n",
    "\tcv2.CHAIN_APPROX_SIMPLE)\n",
    "refCnts = imutils.grab_contours(refCnts)\n",
    "refCnts = contours.sort_contours(refCnts, method=\"left-to-right\")[0]\n",
    "# create a clone of the original image so we can draw on it\n",
    "clone = np.dstack([ref.copy()] * 3)\n",
    "# loop over the (sorted) contours\n",
    "for c in refCnts:\n",
    "\t# compute the bounding box of the contour and draw it on our\n",
    "\t# image\n",
    "\t(x, y, w, h) = cv2.boundingRect(c)\n",
    "\tcv2.rectangle(clone, (x, y), (x + w, y + h), (0, 255, 0), 2)\n",
    "\n",
    "# extract the digits and symbols from the list of contours, then\n",
    "# initialize a dictionary to map the character name to the ROI\n",
    "(refROIs, refLocs) = extract_digits_and_symbols(ref, refCnts,\n",
    "\tminW=10, minH=20)\n",
    "chars = {}\n",
    "# re-initialize the clone image so we can draw on it again\n",
    "clone = np.dstack([ref.copy()] * 3)\n",
    "# loop over the reference ROIs and locations\n",
    "for (name, roi, loc) in zip(charNames, refROIs, refLocs):\n",
    "\t# draw a bounding box surrounding the character on the output\n",
    "\t# image\n",
    "\t(xA, yA, xB, yB) = loc\n",
    "\tcv2.rectangle(clone, (xA, yA), (xB, yB), (0, 255, 0), 2)\n",
    "\t# resize the ROI to a fixed size, then update the characters\n",
    "\t# dictionary, mapping the character name to the ROI\n",
    "\troi = cv2.resize(roi, (36, 36)) \n",
    "\tchars[name] = roi\n",
    "\t# display the character ROI to our screen\n",
    "\tcv2.imshow(\"Char\", roi)\n",
    "\tcv2.waitKey(0)\n"
   ]
  },
  {
   "cell_type": "code",
   "execution_count": null,
   "metadata": {},
   "outputs": [],
   "source": [
    "$ python bank_check_ocr.py --image example_check.png --reference micr_e13b_reference.png"
   ]
  },
  {
   "cell_type": "code",
   "execution_count": null,
   "metadata": {},
   "outputs": [],
   "source": []
  }
 ],
 "metadata": {
  "kernelspec": {
   "display_name": "Python 3",
   "language": "python",
   "name": "python3"
  },
  "language_info": {
   "codemirror_mode": {
    "name": "ipython",
    "version": 3
   },
   "file_extension": ".py",
   "mimetype": "text/x-python",
   "name": "python",
   "nbconvert_exporter": "python",
   "pygments_lexer": "ipython3",
   "version": "3.7.4"
  }
 },
 "nbformat": 4,
 "nbformat_minor": 2
}
